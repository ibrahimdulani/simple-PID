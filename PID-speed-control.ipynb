{
 "cells": [
  {
   "cell_type": "code",
   "execution_count": 1,
   "id": "dda25e3f",
   "metadata": {},
   "outputs": [],
   "source": [
    "import numpy as np\n",
    "import matplotlib.pyplot as plt"
   ]
  },
  {
   "cell_type": "code",
   "execution_count": 2,
   "id": "4da3e05c",
   "metadata": {},
   "outputs": [],
   "source": [
    "class PID(object):\n",
    "\n",
    "    def __init__(self, Kp=1.0, Ki=0.0, Kd=0.0, target=0, dt=1):\n",
    "\n",
    "        self.kp = Kp\n",
    "        self.ki = Ki\n",
    "        self.kd = Kd\n",
    "        self.setpoint=target\n",
    "        self.time_step = dt\n",
    "\n",
    "        self.error = 0\n",
    "        self.last_error = 0\n",
    "        self._proportional = 0\n",
    "        self._integral=0\n",
    "        self._derivative=0 \n",
    "\n",
    "        self.output = 0\n",
    "\n",
    "        \n",
    "    def compute(self, input_):\n",
    "\n",
    "        self.error = self.setpoint - input_\n",
    "\n",
    "        self._proportional = self.kp * self.error\n",
    "        self._integral += self.ki * self.error * self.time_step\n",
    "        self._derivative = self.kd*(self.error - self.last_error)/ self.time_step \n",
    "        self.last_error = self.error\n",
    "\n",
    "        self.output = self._proportional + self._integral + self._derivative\n",
    "\n",
    "        return self.output"
   ]
  },
  {
   "cell_type": "code",
   "execution_count": 228,
   "id": "82cd57d8",
   "metadata": {},
   "outputs": [],
   "source": [
    "v = 25\n",
    "\n",
    "ts=0.1\n",
    "\n",
    "time_steps = np.arange(0,10,ts)\n",
    "\n",
    "target=55\n",
    "\n",
    "pid = PID(10,5,0.2,target,ts)\n",
    "\n",
    "vs=[25]\n",
    "\n",
    "t_range = 30\n",
    "\n",
    "for t in range(t_range):\n",
    "    \n",
    "    a = pid.compute(v)\n",
    "    \n",
    "    v+=a*ts\n",
    "    \n",
    "    vs.append(v)"
   ]
  },
  {
   "cell_type": "code",
   "execution_count": 229,
   "id": "499361f2",
   "metadata": {},
   "outputs": [
    {
     "data": {
      "image/png": "[encoded data removed]",
      "text/plain": [
       "<Figure size 720x432 with 1 Axes>"
      ]
     },
     "metadata": {
      "needs_background": "light"
     },
     "output_type": "display_data"
    }
   ],
   "source": [
    "tt= np.arange(0,(t_range+1)*ts,ts)\n",
    "\n",
    "plt.figure(figsize=(10,6))\n",
    "\n",
    "plt.plot(tt,vs,label=\"speed\")\n",
    "plt.plot(tt, target*np.ones(t_range+1), label='target')\n",
    "plt.xlabel('time',fontsize=16)\n",
    "plt.ylabel('speed',fontsize=16)\n",
    "plt.legend(fontsize=12)\n",
    "plt.show()"
   ]
  },
  {
   "cell_type": "code",
   "execution_count": 237,
   "id": "6d931967",
   "metadata": {},
   "outputs": [
    {
     "name": "stdout",
     "output_type": "stream",
     "text": [
      "00000\n",
      "00001\n",
      "00010\n",
      "00011\n",
      "00100\n",
      "00101\n",
      "00110\n",
      "00111\n",
      "01000\n",
      "01001\n",
      "01010\n",
      "01011\n",
      "01100\n",
      "01101\n",
      "01110\n",
      "01111\n",
      "10000\n",
      "10001\n",
      "10010\n",
      "10011\n"
     ]
    }
   ],
   "source": [
    "for i in range(20):\n",
    "    print(f\"{i:05b}\")"
   ]
  },
  {
   "cell_type": "code",
   "execution_count": 238,
   "id": "1f948381",
   "metadata": {},
   "outputs": [
    {
     "name": "stdout",
     "output_type": "stream",
     "text": [
      "00\n",
      "01\n",
      "10\n",
      "11\n",
      "100\n",
      "101\n",
      "110\n",
      "111\n",
      "1000\n",
      "1001\n",
      "1010\n",
      "1011\n",
      "1100\n",
      "1101\n",
      "1110\n",
      "1111\n",
      "10000\n",
      "10001\n",
      "10010\n",
      "10011\n"
     ]
    }
   ],
   "source": [
    "for i in range(20):\n",
    "    print(f\"{i:02b}\")"
   ]
  },
  {
   "cell_type": "code",
   "execution_count": null,
   "id": "6625b9ae",
   "metadata": {},
   "outputs": [],
   "source": []
  }
 ],
 "metadata": {
  "kernelspec": {
   "display_name": "Python 3",
   "language": "python",
   "name": "python3"
  },
  "language_info": {
   "codemirror_mode": {
    "name": "ipython",
    "version": 3
   },
   "file_extension": ".py",
   "mimetype": "text/x-python",
   "name": "python",
   "nbconvert_exporter": "python",
   "pygments_lexer": "ipython3",
   "version": "3.8.8"
  }
 },
 "nbformat": 4,
 "nbformat_minor": 5
}
